{
  "nbformat": 4,
  "nbformat_minor": 0,
  "metadata": {
    "colab": {
      "name": "WineQT.ipynb",
      "provenance": [],
      "collapsed_sections": []
    },
    "kernelspec": {
      "name": "python3",
      "display_name": "Python 3"
    },
    "language_info": {
      "name": "python"
    }
  },
  "cells": [
    {
      "cell_type": "code",
      "execution_count": 1,
      "metadata": {
        "colab": {
          "base_uri": "https://localhost:8080/"
        },
        "id": "W1XZNhEQGGTk",
        "outputId": "bc59e454-a7ca-4ce4-b2e4-24263ddcfe84"
      },
      "outputs": [
        {
          "output_type": "stream",
          "name": "stdout",
          "text": [
            "Collecting mglearn\n",
            "  Downloading mglearn-0.1.9.tar.gz (540 kB)\n",
            "\u001b[?25l\r\u001b[K     |▋                               | 10 kB 19.1 MB/s eta 0:00:01\r\u001b[K     |█▏                              | 20 kB 10.2 MB/s eta 0:00:01\r\u001b[K     |█▉                              | 30 kB 9.1 MB/s eta 0:00:01\r\u001b[K     |██▍                             | 40 kB 8.4 MB/s eta 0:00:01\r\u001b[K     |███                             | 51 kB 4.5 MB/s eta 0:00:01\r\u001b[K     |███▋                            | 61 kB 5.3 MB/s eta 0:00:01\r\u001b[K     |████▎                           | 71 kB 5.3 MB/s eta 0:00:01\r\u001b[K     |████▉                           | 81 kB 4.1 MB/s eta 0:00:01\r\u001b[K     |█████▌                          | 92 kB 4.6 MB/s eta 0:00:01\r\u001b[K     |██████                          | 102 kB 4.9 MB/s eta 0:00:01\r\u001b[K     |██████▊                         | 112 kB 4.9 MB/s eta 0:00:01\r\u001b[K     |███████▎                        | 122 kB 4.9 MB/s eta 0:00:01\r\u001b[K     |███████▉                        | 133 kB 4.9 MB/s eta 0:00:01\r\u001b[K     |████████▌                       | 143 kB 4.9 MB/s eta 0:00:01\r\u001b[K     |█████████                       | 153 kB 4.9 MB/s eta 0:00:01\r\u001b[K     |█████████▊                      | 163 kB 4.9 MB/s eta 0:00:01\r\u001b[K     |██████████▎                     | 174 kB 4.9 MB/s eta 0:00:01\r\u001b[K     |███████████                     | 184 kB 4.9 MB/s eta 0:00:01\r\u001b[K     |███████████▌                    | 194 kB 4.9 MB/s eta 0:00:01\r\u001b[K     |████████████▏                   | 204 kB 4.9 MB/s eta 0:00:01\r\u001b[K     |████████████▊                   | 215 kB 4.9 MB/s eta 0:00:01\r\u001b[K     |█████████████▍                  | 225 kB 4.9 MB/s eta 0:00:01\r\u001b[K     |██████████████                  | 235 kB 4.9 MB/s eta 0:00:01\r\u001b[K     |██████████████▋                 | 245 kB 4.9 MB/s eta 0:00:01\r\u001b[K     |███████████████▏                | 256 kB 4.9 MB/s eta 0:00:01\r\u001b[K     |███████████████▊                | 266 kB 4.9 MB/s eta 0:00:01\r\u001b[K     |████████████████▍               | 276 kB 4.9 MB/s eta 0:00:01\r\u001b[K     |█████████████████               | 286 kB 4.9 MB/s eta 0:00:01\r\u001b[K     |█████████████████▋              | 296 kB 4.9 MB/s eta 0:00:01\r\u001b[K     |██████████████████▏             | 307 kB 4.9 MB/s eta 0:00:01\r\u001b[K     |██████████████████▉             | 317 kB 4.9 MB/s eta 0:00:01\r\u001b[K     |███████████████████▍            | 327 kB 4.9 MB/s eta 0:00:01\r\u001b[K     |████████████████████            | 337 kB 4.9 MB/s eta 0:00:01\r\u001b[K     |████████████████████▋           | 348 kB 4.9 MB/s eta 0:00:01\r\u001b[K     |█████████████████████▎          | 358 kB 4.9 MB/s eta 0:00:01\r\u001b[K     |█████████████████████▉          | 368 kB 4.9 MB/s eta 0:00:01\r\u001b[K     |██████████████████████▌         | 378 kB 4.9 MB/s eta 0:00:01\r\u001b[K     |███████████████████████         | 389 kB 4.9 MB/s eta 0:00:01\r\u001b[K     |███████████████████████▋        | 399 kB 4.9 MB/s eta 0:00:01\r\u001b[K     |████████████████████████▎       | 409 kB 4.9 MB/s eta 0:00:01\r\u001b[K     |████████████████████████▉       | 419 kB 4.9 MB/s eta 0:00:01\r\u001b[K     |█████████████████████████▌      | 430 kB 4.9 MB/s eta 0:00:01\r\u001b[K     |██████████████████████████      | 440 kB 4.9 MB/s eta 0:00:01\r\u001b[K     |██████████████████████████▊     | 450 kB 4.9 MB/s eta 0:00:01\r\u001b[K     |███████████████████████████▎    | 460 kB 4.9 MB/s eta 0:00:01\r\u001b[K     |████████████████████████████    | 471 kB 4.9 MB/s eta 0:00:01\r\u001b[K     |████████████████████████████▌   | 481 kB 4.9 MB/s eta 0:00:01\r\u001b[K     |█████████████████████████████▏  | 491 kB 4.9 MB/s eta 0:00:01\r\u001b[K     |█████████████████████████████▊  | 501 kB 4.9 MB/s eta 0:00:01\r\u001b[K     |██████████████████████████████▍ | 512 kB 4.9 MB/s eta 0:00:01\r\u001b[K     |███████████████████████████████ | 522 kB 4.9 MB/s eta 0:00:01\r\u001b[K     |███████████████████████████████▌| 532 kB 4.9 MB/s eta 0:00:01\r\u001b[K     |████████████████████████████████| 540 kB 4.9 MB/s \n",
            "\u001b[?25hRequirement already satisfied: numpy in /usr/local/lib/python3.7/dist-packages (from mglearn) (1.21.6)\n",
            "Requirement already satisfied: matplotlib in /usr/local/lib/python3.7/dist-packages (from mglearn) (3.2.2)\n",
            "Requirement already satisfied: scikit-learn in /usr/local/lib/python3.7/dist-packages (from mglearn) (1.0.2)\n",
            "Requirement already satisfied: pandas in /usr/local/lib/python3.7/dist-packages (from mglearn) (1.3.5)\n",
            "Requirement already satisfied: pillow in /usr/local/lib/python3.7/dist-packages (from mglearn) (7.1.2)\n",
            "Requirement already satisfied: cycler in /usr/local/lib/python3.7/dist-packages (from mglearn) (0.11.0)\n",
            "Requirement already satisfied: imageio in /usr/local/lib/python3.7/dist-packages (from mglearn) (2.4.1)\n",
            "Requirement already satisfied: joblib in /usr/local/lib/python3.7/dist-packages (from mglearn) (1.1.0)\n",
            "Requirement already satisfied: python-dateutil>=2.1 in /usr/local/lib/python3.7/dist-packages (from matplotlib->mglearn) (2.8.2)\n",
            "Requirement already satisfied: pyparsing!=2.0.4,!=2.1.2,!=2.1.6,>=2.0.1 in /usr/local/lib/python3.7/dist-packages (from matplotlib->mglearn) (3.0.9)\n",
            "Requirement already satisfied: kiwisolver>=1.0.1 in /usr/local/lib/python3.7/dist-packages (from matplotlib->mglearn) (1.4.2)\n",
            "Requirement already satisfied: typing-extensions in /usr/local/lib/python3.7/dist-packages (from kiwisolver>=1.0.1->matplotlib->mglearn) (4.2.0)\n",
            "Requirement already satisfied: six>=1.5 in /usr/local/lib/python3.7/dist-packages (from python-dateutil>=2.1->matplotlib->mglearn) (1.15.0)\n",
            "Requirement already satisfied: pytz>=2017.3 in /usr/local/lib/python3.7/dist-packages (from pandas->mglearn) (2022.1)\n",
            "Requirement already satisfied: scipy>=1.1.0 in /usr/local/lib/python3.7/dist-packages (from scikit-learn->mglearn) (1.4.1)\n",
            "Requirement already satisfied: threadpoolctl>=2.0.0 in /usr/local/lib/python3.7/dist-packages (from scikit-learn->mglearn) (3.1.0)\n",
            "Building wheels for collected packages: mglearn\n",
            "  Building wheel for mglearn (setup.py) ... \u001b[?25l\u001b[?25hdone\n",
            "  Created wheel for mglearn: filename=mglearn-0.1.9-py2.py3-none-any.whl size=582639 sha256=182bbc0fab09b5755f51b85e304fc79d0ba0fec3b131857e6b98bdba7979f27c\n",
            "  Stored in directory: /root/.cache/pip/wheels/f1/17/e1/1720d6dcd70187b6b6c3750cb3508798f2b1d57c9d3214b08b\n",
            "Successfully built mglearn\n",
            "Installing collected packages: mglearn\n",
            "Successfully installed mglearn-0.1.9\n"
          ]
        }
      ],
      "source": [
        "!pip install mglearn"
      ]
    },
    {
      "cell_type": "code",
      "source": [
        "import matplotlib.pyplot as plt\n",
        "import mglearn"
      ],
      "metadata": {
        "id": "jEmvp-joGusA"
      },
      "execution_count": 2,
      "outputs": []
    },
    {
      "cell_type": "code",
      "source": [
        "from sklearn.model_selection import train_test_split\n",
        "import seaborn as sns\n"
      ],
      "metadata": {
        "id": "8ynLytgVGXKx"
      },
      "execution_count": 3,
      "outputs": []
    },
    {
      "cell_type": "code",
      "source": [
        "import pandas as pd\n",
        "\n",
        "wine=pd.read_csv(\"WineQT.csv\")\n",
        "\n",
        "wine.head()"
      ],
      "metadata": {
        "colab": {
          "base_uri": "https://localhost:8080/",
          "height": 267
        },
        "id": "iYR5Y4JFHKWG",
        "outputId": "6ed85f3d-802e-419f-9210-db9ae17f5979"
      },
      "execution_count": 85,
      "outputs": [
        {
          "output_type": "execute_result",
          "data": {
            "text/plain": [
              "   fixed acidity  volatile acidity  citric acid  residual sugar  chlorides  \\\n",
              "0            7.4              0.70         0.00             1.9      0.076   \n",
              "1            7.8              0.88         0.00             2.6      0.098   \n",
              "2            7.8              0.76         0.04             2.3      0.092   \n",
              "3           11.2              0.28         0.56             1.9      0.075   \n",
              "4            7.4              0.70         0.00             1.9      0.076   \n",
              "\n",
              "   free sulfur dioxide  total sulfur dioxide  density    pH  sulphates  \\\n",
              "0                 11.0                  34.0   0.9978  3.51       0.56   \n",
              "1                 25.0                  67.0   0.9968  3.20       0.68   \n",
              "2                 15.0                  54.0   0.9970  3.26       0.65   \n",
              "3                 17.0                  60.0   0.9980  3.16       0.58   \n",
              "4                 11.0                  34.0   0.9978  3.51       0.56   \n",
              "\n",
              "   alcohol  quality  Id  \n",
              "0      9.4        5   0  \n",
              "1      9.8        5   1  \n",
              "2      9.8        5   2  \n",
              "3      9.8        6   3  \n",
              "4      9.4        5   4  "
            ],
            "text/html": [
              "\n",
              "  <div id=\"df-16a30d60-fdaf-4dda-ab97-66c3a78e9969\">\n",
              "    <div class=\"colab-df-container\">\n",
              "      <div>\n",
              "<style scoped>\n",
              "    .dataframe tbody tr th:only-of-type {\n",
              "        vertical-align: middle;\n",
              "    }\n",
              "\n",
              "    .dataframe tbody tr th {\n",
              "        vertical-align: top;\n",
              "    }\n",
              "\n",
              "    .dataframe thead th {\n",
              "        text-align: right;\n",
              "    }\n",
              "</style>\n",
              "<table border=\"1\" class=\"dataframe\">\n",
              "  <thead>\n",
              "    <tr style=\"text-align: right;\">\n",
              "      <th></th>\n",
              "      <th>fixed acidity</th>\n",
              "      <th>volatile acidity</th>\n",
              "      <th>citric acid</th>\n",
              "      <th>residual sugar</th>\n",
              "      <th>chlorides</th>\n",
              "      <th>free sulfur dioxide</th>\n",
              "      <th>total sulfur dioxide</th>\n",
              "      <th>density</th>\n",
              "      <th>pH</th>\n",
              "      <th>sulphates</th>\n",
              "      <th>alcohol</th>\n",
              "      <th>quality</th>\n",
              "      <th>Id</th>\n",
              "    </tr>\n",
              "  </thead>\n",
              "  <tbody>\n",
              "    <tr>\n",
              "      <th>0</th>\n",
              "      <td>7.4</td>\n",
              "      <td>0.70</td>\n",
              "      <td>0.00</td>\n",
              "      <td>1.9</td>\n",
              "      <td>0.076</td>\n",
              "      <td>11.0</td>\n",
              "      <td>34.0</td>\n",
              "      <td>0.9978</td>\n",
              "      <td>3.51</td>\n",
              "      <td>0.56</td>\n",
              "      <td>9.4</td>\n",
              "      <td>5</td>\n",
              "      <td>0</td>\n",
              "    </tr>\n",
              "    <tr>\n",
              "      <th>1</th>\n",
              "      <td>7.8</td>\n",
              "      <td>0.88</td>\n",
              "      <td>0.00</td>\n",
              "      <td>2.6</td>\n",
              "      <td>0.098</td>\n",
              "      <td>25.0</td>\n",
              "      <td>67.0</td>\n",
              "      <td>0.9968</td>\n",
              "      <td>3.20</td>\n",
              "      <td>0.68</td>\n",
              "      <td>9.8</td>\n",
              "      <td>5</td>\n",
              "      <td>1</td>\n",
              "    </tr>\n",
              "    <tr>\n",
              "      <th>2</th>\n",
              "      <td>7.8</td>\n",
              "      <td>0.76</td>\n",
              "      <td>0.04</td>\n",
              "      <td>2.3</td>\n",
              "      <td>0.092</td>\n",
              "      <td>15.0</td>\n",
              "      <td>54.0</td>\n",
              "      <td>0.9970</td>\n",
              "      <td>3.26</td>\n",
              "      <td>0.65</td>\n",
              "      <td>9.8</td>\n",
              "      <td>5</td>\n",
              "      <td>2</td>\n",
              "    </tr>\n",
              "    <tr>\n",
              "      <th>3</th>\n",
              "      <td>11.2</td>\n",
              "      <td>0.28</td>\n",
              "      <td>0.56</td>\n",
              "      <td>1.9</td>\n",
              "      <td>0.075</td>\n",
              "      <td>17.0</td>\n",
              "      <td>60.0</td>\n",
              "      <td>0.9980</td>\n",
              "      <td>3.16</td>\n",
              "      <td>0.58</td>\n",
              "      <td>9.8</td>\n",
              "      <td>6</td>\n",
              "      <td>3</td>\n",
              "    </tr>\n",
              "    <tr>\n",
              "      <th>4</th>\n",
              "      <td>7.4</td>\n",
              "      <td>0.70</td>\n",
              "      <td>0.00</td>\n",
              "      <td>1.9</td>\n",
              "      <td>0.076</td>\n",
              "      <td>11.0</td>\n",
              "      <td>34.0</td>\n",
              "      <td>0.9978</td>\n",
              "      <td>3.51</td>\n",
              "      <td>0.56</td>\n",
              "      <td>9.4</td>\n",
              "      <td>5</td>\n",
              "      <td>4</td>\n",
              "    </tr>\n",
              "  </tbody>\n",
              "</table>\n",
              "</div>\n",
              "      <button class=\"colab-df-convert\" onclick=\"convertToInteractive('df-16a30d60-fdaf-4dda-ab97-66c3a78e9969')\"\n",
              "              title=\"Convert this dataframe to an interactive table.\"\n",
              "              style=\"display:none;\">\n",
              "        \n",
              "  <svg xmlns=\"http://www.w3.org/2000/svg\" height=\"24px\"viewBox=\"0 0 24 24\"\n",
              "       width=\"24px\">\n",
              "    <path d=\"M0 0h24v24H0V0z\" fill=\"none\"/>\n",
              "    <path d=\"M18.56 5.44l.94 2.06.94-2.06 2.06-.94-2.06-.94-.94-2.06-.94 2.06-2.06.94zm-11 1L8.5 8.5l.94-2.06 2.06-.94-2.06-.94L8.5 2.5l-.94 2.06-2.06.94zm10 10l.94 2.06.94-2.06 2.06-.94-2.06-.94-.94-2.06-.94 2.06-2.06.94z\"/><path d=\"M17.41 7.96l-1.37-1.37c-.4-.4-.92-.59-1.43-.59-.52 0-1.04.2-1.43.59L10.3 9.45l-7.72 7.72c-.78.78-.78 2.05 0 2.83L4 21.41c.39.39.9.59 1.41.59.51 0 1.02-.2 1.41-.59l7.78-7.78 2.81-2.81c.8-.78.8-2.07 0-2.86zM5.41 20L4 18.59l7.72-7.72 1.47 1.35L5.41 20z\"/>\n",
              "  </svg>\n",
              "      </button>\n",
              "      \n",
              "  <style>\n",
              "    .colab-df-container {\n",
              "      display:flex;\n",
              "      flex-wrap:wrap;\n",
              "      gap: 12px;\n",
              "    }\n",
              "\n",
              "    .colab-df-convert {\n",
              "      background-color: #E8F0FE;\n",
              "      border: none;\n",
              "      border-radius: 50%;\n",
              "      cursor: pointer;\n",
              "      display: none;\n",
              "      fill: #1967D2;\n",
              "      height: 32px;\n",
              "      padding: 0 0 0 0;\n",
              "      width: 32px;\n",
              "    }\n",
              "\n",
              "    .colab-df-convert:hover {\n",
              "      background-color: #E2EBFA;\n",
              "      box-shadow: 0px 1px 2px rgba(60, 64, 67, 0.3), 0px 1px 3px 1px rgba(60, 64, 67, 0.15);\n",
              "      fill: #174EA6;\n",
              "    }\n",
              "\n",
              "    [theme=dark] .colab-df-convert {\n",
              "      background-color: #3B4455;\n",
              "      fill: #D2E3FC;\n",
              "    }\n",
              "\n",
              "    [theme=dark] .colab-df-convert:hover {\n",
              "      background-color: #434B5C;\n",
              "      box-shadow: 0px 1px 3px 1px rgba(0, 0, 0, 0.15);\n",
              "      filter: drop-shadow(0px 1px 2px rgba(0, 0, 0, 0.3));\n",
              "      fill: #FFFFFF;\n",
              "    }\n",
              "  </style>\n",
              "\n",
              "      <script>\n",
              "        const buttonEl =\n",
              "          document.querySelector('#df-16a30d60-fdaf-4dda-ab97-66c3a78e9969 button.colab-df-convert');\n",
              "        buttonEl.style.display =\n",
              "          google.colab.kernel.accessAllowed ? 'block' : 'none';\n",
              "\n",
              "        async function convertToInteractive(key) {\n",
              "          const element = document.querySelector('#df-16a30d60-fdaf-4dda-ab97-66c3a78e9969');\n",
              "          const dataTable =\n",
              "            await google.colab.kernel.invokeFunction('convertToInteractive',\n",
              "                                                     [key], {});\n",
              "          if (!dataTable) return;\n",
              "\n",
              "          const docLinkHtml = 'Like what you see? Visit the ' +\n",
              "            '<a target=\"_blank\" href=https://colab.research.google.com/notebooks/data_table.ipynb>data table notebook</a>'\n",
              "            + ' to learn more about interactive tables.';\n",
              "          element.innerHTML = '';\n",
              "          dataTable['output_type'] = 'display_data';\n",
              "          await google.colab.output.renderOutput(dataTable, element);\n",
              "          const docLink = document.createElement('div');\n",
              "          docLink.innerHTML = docLinkHtml;\n",
              "          element.appendChild(docLink);\n",
              "        }\n",
              "      </script>\n",
              "    </div>\n",
              "  </div>\n",
              "  "
            ]
          },
          "metadata": {},
          "execution_count": 85
        }
      ]
    },
    {
      "cell_type": "code",
      "source": [
        "wine. columns"
      ],
      "metadata": {
        "colab": {
          "base_uri": "https://localhost:8080/"
        },
        "id": "UQzdty3gIDvl",
        "outputId": "9b8698d9-531d-4d67-c839-7a1791f91170"
      },
      "execution_count": 86,
      "outputs": [
        {
          "output_type": "execute_result",
          "data": {
            "text/plain": [
              "Index(['fixed acidity', 'volatile acidity', 'citric acid', 'residual sugar',\n",
              "       'chlorides', 'free sulfur dioxide', 'total sulfur dioxide', 'density',\n",
              "       'pH', 'sulphates', 'alcohol', 'quality', 'Id'],\n",
              "      dtype='object')"
            ]
          },
          "metadata": {},
          "execution_count": 86
        }
      ]
    },
    {
      "cell_type": "code",
      "source": [
        "#변수추가\n",
        "wine['newdat1']=wine['fixed acidity']*wine['volatile acidity']\n",
        "wine['newdat2']=wine['fixed acidity']*wine['alcohol']\n",
        "wine['newdat3']=wine['fixed acidity']*wine['alcohol']*wine['volatile acidity']"
      ],
      "metadata": {
        "id": "eCIiZy8Rh_XT"
      },
      "execution_count": 87,
      "outputs": []
    },
    {
      "cell_type": "code",
      "source": [
        "#의미있는 변수로 변경\n",
        "\n",
        "wine['newdensity']=wine['density']*1000-990\n",
        "wine['newalcohol']=wine['alcohol']*10-90"
      ],
      "metadata": {
        "id": "ySQh_0ykjpGm"
      },
      "execution_count": 88,
      "outputs": []
    },
    {
      "cell_type": "code",
      "source": [
        "#변경된것 확인\n",
        "\n",
        "wine.head()"
      ],
      "metadata": {
        "colab": {
          "base_uri": "https://localhost:8080/",
          "height": 305
        },
        "id": "An0-1nJhh_z0",
        "outputId": "57697670-2b70-4177-e15f-e33fbbf7feae"
      },
      "execution_count": 89,
      "outputs": [
        {
          "output_type": "execute_result",
          "data": {
            "text/plain": [
              "   fixed acidity  volatile acidity  citric acid  residual sugar  chlorides  \\\n",
              "0            7.4              0.70         0.00             1.9      0.076   \n",
              "1            7.8              0.88         0.00             2.6      0.098   \n",
              "2            7.8              0.76         0.04             2.3      0.092   \n",
              "3           11.2              0.28         0.56             1.9      0.075   \n",
              "4            7.4              0.70         0.00             1.9      0.076   \n",
              "\n",
              "   free sulfur dioxide  total sulfur dioxide  density    pH  sulphates  \\\n",
              "0                 11.0                  34.0   0.9978  3.51       0.56   \n",
              "1                 25.0                  67.0   0.9968  3.20       0.68   \n",
              "2                 15.0                  54.0   0.9970  3.26       0.65   \n",
              "3                 17.0                  60.0   0.9980  3.16       0.58   \n",
              "4                 11.0                  34.0   0.9978  3.51       0.56   \n",
              "\n",
              "   alcohol  quality  Id  newdat1  newdat2  newdat3  newdensity  newalcohol  \n",
              "0      9.4        5   0    5.180    69.56  48.6920         7.8         4.0  \n",
              "1      9.8        5   1    6.864    76.44  67.2672         6.8         8.0  \n",
              "2      9.8        5   2    5.928    76.44  58.0944         7.0         8.0  \n",
              "3      9.8        6   3    3.136   109.76  30.7328         8.0         8.0  \n",
              "4      9.4        5   4    5.180    69.56  48.6920         7.8         4.0  "
            ],
            "text/html": [
              "\n",
              "  <div id=\"df-8035f5f0-b9a4-45cf-ae6e-af8c54106b65\">\n",
              "    <div class=\"colab-df-container\">\n",
              "      <div>\n",
              "<style scoped>\n",
              "    .dataframe tbody tr th:only-of-type {\n",
              "        vertical-align: middle;\n",
              "    }\n",
              "\n",
              "    .dataframe tbody tr th {\n",
              "        vertical-align: top;\n",
              "    }\n",
              "\n",
              "    .dataframe thead th {\n",
              "        text-align: right;\n",
              "    }\n",
              "</style>\n",
              "<table border=\"1\" class=\"dataframe\">\n",
              "  <thead>\n",
              "    <tr style=\"text-align: right;\">\n",
              "      <th></th>\n",
              "      <th>fixed acidity</th>\n",
              "      <th>volatile acidity</th>\n",
              "      <th>citric acid</th>\n",
              "      <th>residual sugar</th>\n",
              "      <th>chlorides</th>\n",
              "      <th>free sulfur dioxide</th>\n",
              "      <th>total sulfur dioxide</th>\n",
              "      <th>density</th>\n",
              "      <th>pH</th>\n",
              "      <th>sulphates</th>\n",
              "      <th>alcohol</th>\n",
              "      <th>quality</th>\n",
              "      <th>Id</th>\n",
              "      <th>newdat1</th>\n",
              "      <th>newdat2</th>\n",
              "      <th>newdat3</th>\n",
              "      <th>newdensity</th>\n",
              "      <th>newalcohol</th>\n",
              "    </tr>\n",
              "  </thead>\n",
              "  <tbody>\n",
              "    <tr>\n",
              "      <th>0</th>\n",
              "      <td>7.4</td>\n",
              "      <td>0.70</td>\n",
              "      <td>0.00</td>\n",
              "      <td>1.9</td>\n",
              "      <td>0.076</td>\n",
              "      <td>11.0</td>\n",
              "      <td>34.0</td>\n",
              "      <td>0.9978</td>\n",
              "      <td>3.51</td>\n",
              "      <td>0.56</td>\n",
              "      <td>9.4</td>\n",
              "      <td>5</td>\n",
              "      <td>0</td>\n",
              "      <td>5.180</td>\n",
              "      <td>69.56</td>\n",
              "      <td>48.6920</td>\n",
              "      <td>7.8</td>\n",
              "      <td>4.0</td>\n",
              "    </tr>\n",
              "    <tr>\n",
              "      <th>1</th>\n",
              "      <td>7.8</td>\n",
              "      <td>0.88</td>\n",
              "      <td>0.00</td>\n",
              "      <td>2.6</td>\n",
              "      <td>0.098</td>\n",
              "      <td>25.0</td>\n",
              "      <td>67.0</td>\n",
              "      <td>0.9968</td>\n",
              "      <td>3.20</td>\n",
              "      <td>0.68</td>\n",
              "      <td>9.8</td>\n",
              "      <td>5</td>\n",
              "      <td>1</td>\n",
              "      <td>6.864</td>\n",
              "      <td>76.44</td>\n",
              "      <td>67.2672</td>\n",
              "      <td>6.8</td>\n",
              "      <td>8.0</td>\n",
              "    </tr>\n",
              "    <tr>\n",
              "      <th>2</th>\n",
              "      <td>7.8</td>\n",
              "      <td>0.76</td>\n",
              "      <td>0.04</td>\n",
              "      <td>2.3</td>\n",
              "      <td>0.092</td>\n",
              "      <td>15.0</td>\n",
              "      <td>54.0</td>\n",
              "      <td>0.9970</td>\n",
              "      <td>3.26</td>\n",
              "      <td>0.65</td>\n",
              "      <td>9.8</td>\n",
              "      <td>5</td>\n",
              "      <td>2</td>\n",
              "      <td>5.928</td>\n",
              "      <td>76.44</td>\n",
              "      <td>58.0944</td>\n",
              "      <td>7.0</td>\n",
              "      <td>8.0</td>\n",
              "    </tr>\n",
              "    <tr>\n",
              "      <th>3</th>\n",
              "      <td>11.2</td>\n",
              "      <td>0.28</td>\n",
              "      <td>0.56</td>\n",
              "      <td>1.9</td>\n",
              "      <td>0.075</td>\n",
              "      <td>17.0</td>\n",
              "      <td>60.0</td>\n",
              "      <td>0.9980</td>\n",
              "      <td>3.16</td>\n",
              "      <td>0.58</td>\n",
              "      <td>9.8</td>\n",
              "      <td>6</td>\n",
              "      <td>3</td>\n",
              "      <td>3.136</td>\n",
              "      <td>109.76</td>\n",
              "      <td>30.7328</td>\n",
              "      <td>8.0</td>\n",
              "      <td>8.0</td>\n",
              "    </tr>\n",
              "    <tr>\n",
              "      <th>4</th>\n",
              "      <td>7.4</td>\n",
              "      <td>0.70</td>\n",
              "      <td>0.00</td>\n",
              "      <td>1.9</td>\n",
              "      <td>0.076</td>\n",
              "      <td>11.0</td>\n",
              "      <td>34.0</td>\n",
              "      <td>0.9978</td>\n",
              "      <td>3.51</td>\n",
              "      <td>0.56</td>\n",
              "      <td>9.4</td>\n",
              "      <td>5</td>\n",
              "      <td>4</td>\n",
              "      <td>5.180</td>\n",
              "      <td>69.56</td>\n",
              "      <td>48.6920</td>\n",
              "      <td>7.8</td>\n",
              "      <td>4.0</td>\n",
              "    </tr>\n",
              "  </tbody>\n",
              "</table>\n",
              "</div>\n",
              "      <button class=\"colab-df-convert\" onclick=\"convertToInteractive('df-8035f5f0-b9a4-45cf-ae6e-af8c54106b65')\"\n",
              "              title=\"Convert this dataframe to an interactive table.\"\n",
              "              style=\"display:none;\">\n",
              "        \n",
              "  <svg xmlns=\"http://www.w3.org/2000/svg\" height=\"24px\"viewBox=\"0 0 24 24\"\n",
              "       width=\"24px\">\n",
              "    <path d=\"M0 0h24v24H0V0z\" fill=\"none\"/>\n",
              "    <path d=\"M18.56 5.44l.94 2.06.94-2.06 2.06-.94-2.06-.94-.94-2.06-.94 2.06-2.06.94zm-11 1L8.5 8.5l.94-2.06 2.06-.94-2.06-.94L8.5 2.5l-.94 2.06-2.06.94zm10 10l.94 2.06.94-2.06 2.06-.94-2.06-.94-.94-2.06-.94 2.06-2.06.94z\"/><path d=\"M17.41 7.96l-1.37-1.37c-.4-.4-.92-.59-1.43-.59-.52 0-1.04.2-1.43.59L10.3 9.45l-7.72 7.72c-.78.78-.78 2.05 0 2.83L4 21.41c.39.39.9.59 1.41.59.51 0 1.02-.2 1.41-.59l7.78-7.78 2.81-2.81c.8-.78.8-2.07 0-2.86zM5.41 20L4 18.59l7.72-7.72 1.47 1.35L5.41 20z\"/>\n",
              "  </svg>\n",
              "      </button>\n",
              "      \n",
              "  <style>\n",
              "    .colab-df-container {\n",
              "      display:flex;\n",
              "      flex-wrap:wrap;\n",
              "      gap: 12px;\n",
              "    }\n",
              "\n",
              "    .colab-df-convert {\n",
              "      background-color: #E8F0FE;\n",
              "      border: none;\n",
              "      border-radius: 50%;\n",
              "      cursor: pointer;\n",
              "      display: none;\n",
              "      fill: #1967D2;\n",
              "      height: 32px;\n",
              "      padding: 0 0 0 0;\n",
              "      width: 32px;\n",
              "    }\n",
              "\n",
              "    .colab-df-convert:hover {\n",
              "      background-color: #E2EBFA;\n",
              "      box-shadow: 0px 1px 2px rgba(60, 64, 67, 0.3), 0px 1px 3px 1px rgba(60, 64, 67, 0.15);\n",
              "      fill: #174EA6;\n",
              "    }\n",
              "\n",
              "    [theme=dark] .colab-df-convert {\n",
              "      background-color: #3B4455;\n",
              "      fill: #D2E3FC;\n",
              "    }\n",
              "\n",
              "    [theme=dark] .colab-df-convert:hover {\n",
              "      background-color: #434B5C;\n",
              "      box-shadow: 0px 1px 3px 1px rgba(0, 0, 0, 0.15);\n",
              "      filter: drop-shadow(0px 1px 2px rgba(0, 0, 0, 0.3));\n",
              "      fill: #FFFFFF;\n",
              "    }\n",
              "  </style>\n",
              "\n",
              "      <script>\n",
              "        const buttonEl =\n",
              "          document.querySelector('#df-8035f5f0-b9a4-45cf-ae6e-af8c54106b65 button.colab-df-convert');\n",
              "        buttonEl.style.display =\n",
              "          google.colab.kernel.accessAllowed ? 'block' : 'none';\n",
              "\n",
              "        async function convertToInteractive(key) {\n",
              "          const element = document.querySelector('#df-8035f5f0-b9a4-45cf-ae6e-af8c54106b65');\n",
              "          const dataTable =\n",
              "            await google.colab.kernel.invokeFunction('convertToInteractive',\n",
              "                                                     [key], {});\n",
              "          if (!dataTable) return;\n",
              "\n",
              "          const docLinkHtml = 'Like what you see? Visit the ' +\n",
              "            '<a target=\"_blank\" href=https://colab.research.google.com/notebooks/data_table.ipynb>data table notebook</a>'\n",
              "            + ' to learn more about interactive tables.';\n",
              "          element.innerHTML = '';\n",
              "          dataTable['output_type'] = 'display_data';\n",
              "          await google.colab.output.renderOutput(dataTable, element);\n",
              "          const docLink = document.createElement('div');\n",
              "          docLink.innerHTML = docLinkHtml;\n",
              "          element.appendChild(docLink);\n",
              "        }\n",
              "      </script>\n",
              "    </div>\n",
              "  </div>\n",
              "  "
            ]
          },
          "metadata": {},
          "execution_count": 89
        }
      ]
    },
    {
      "cell_type": "code",
      "source": [
        "sel=['fixed acidity','volatile acidity','alcohol','newdat1']\n",
        "\n",
        "all_X=wine[sel]\n",
        "all_y=wine['quality']"
      ],
      "metadata": {
        "id": "j8p9TocmJW56"
      },
      "execution_count": 102,
      "outputs": []
    },
    {
      "cell_type": "code",
      "source": [
        "X_train,X_test,y_train,y_test=train_test_split(all_X, all_y,\n",
        "                                                    test_size=0.3,\n",
        "                                                    random_state=0)"
      ],
      "metadata": {
        "id": "Q2TATbHiKU7N"
      },
      "execution_count": 103,
      "outputs": []
    },
    {
      "cell_type": "code",
      "source": [
        "from sklearn.neighbors import KNeighborsClassifier\n",
        "\n",
        "model1=KNeighborsClassifier(n_neighbors=50)\n",
        "model1.fit(X_train,y_train)\n",
        "pred=model1.predict(X_test)\n",
        "\n",
        "print(\"knn 모델의 tr정확도 :\",model1.score(X_train,y_train))\n",
        "print(\"knn 모델의 test정확도 :\",model1.score(X_test,y_test))\n",
        "\n"
      ],
      "metadata": {
        "colab": {
          "base_uri": "https://localhost:8080/"
        },
        "id": "mCLXT6lDKn3i",
        "outputId": "487477dc-afb0-4e99-db1d-d02f0eb59a96"
      },
      "execution_count": 104,
      "outputs": [
        {
          "output_type": "stream",
          "name": "stdout",
          "text": [
            "knn 모델의 tr정확도 : 0.565\n",
            "knn 모델의 test정확도 : 0.5947521865889213\n"
          ]
        }
      ]
    },
    {
      "cell_type": "code",
      "source": [
        "from sklearn.tree import DecisionTreeClassifier\n",
        "\n",
        "model2=DecisionTreeClassifier(random_state=0,max_depth=5)\n",
        "model2.fit(X_train,y_train)\n",
        "pred=model2.predict(X_test)\n",
        "\n",
        "print(\"결정트리 tr정확도:\",model2.score(X_train,y_train))\n",
        "print(\"결정트리 test정확도:\",model2.score(X_test,y_test))"
      ],
      "metadata": {
        "colab": {
          "base_uri": "https://localhost:8080/"
        },
        "id": "B9YZUThFLJGV",
        "outputId": "229211b3-f4e5-401e-b381-ecc9a4cf82ac"
      },
      "execution_count": 105,
      "outputs": [
        {
          "output_type": "stream",
          "name": "stdout",
          "text": [
            "결정트리 tr정확도: 0.645\n",
            "결정트리 test정확도: 0.641399416909621\n"
          ]
        }
      ]
    },
    {
      "cell_type": "code",
      "source": [
        "from sklearn.ensemble import RandomForestClassifier\n",
        "\n",
        "model3 = RandomForestClassifier(max_depth=5, random_state=0, n_estimators=1000)\n",
        "model3.fit(X_train, y_train)\n",
        "\n",
        "print(\"학습용 정확도 : \", model3.score(X_train,y_train) )\n",
        "print(\"테스트용 정확도 : \", model3.score(X_test,y_test) )"
      ],
      "metadata": {
        "id": "mS58oPFLNi8D",
        "colab": {
          "base_uri": "https://localhost:8080/"
        },
        "outputId": "66818527-3451-44ec-d8a1-74ed69a8e21f"
      },
      "execution_count": 106,
      "outputs": [
        {
          "output_type": "stream",
          "name": "stdout",
          "text": [
            "학습용 정확도 :  0.67625\n",
            "테스트용 정확도 :  0.6355685131195336\n"
          ]
        }
      ]
    },
    {
      "cell_type": "markdown",
      "source": [
        "* n_estimators=1000 100개에서 1000개로 바꿨을때 성능이 좋아졌다."
      ],
      "metadata": {
        "id": "EJ48ZFnWgiEa"
      }
    },
    {
      "cell_type": "code",
      "source": [
        "depth_num = range(1, 10)\n",
        "\n",
        "for num in depth_num:\n",
        "    model2 = DecisionTreeClassifier(max_depth=num, random_state=0)\n",
        "    model2.fit(X_train, y_train)\n",
        "    \n",
        "    print(\"max_depth : \", num)\n",
        "    print(\"학습용 정확도 : \", model2.score(X_train,y_train) )\n",
        "    print(\"테스트용 정확도 : \", model2.score(X_test,y_test) )"
      ],
      "metadata": {
        "colab": {
          "base_uri": "https://localhost:8080/"
        },
        "id": "8ymnYEtIFODq",
        "outputId": "2a91acc5-d281-4f07-82a4-4a302492e0d1"
      },
      "execution_count": 107,
      "outputs": [
        {
          "output_type": "stream",
          "name": "stdout",
          "text": [
            "max_depth :  1\n",
            "학습용 정확도 :  0.5375\n",
            "테스트용 정확도 :  0.597667638483965\n",
            "max_depth :  2\n",
            "학습용 정확도 :  0.55375\n",
            "테스트용 정확도 :  0.597667638483965\n",
            "max_depth :  3\n",
            "학습용 정확도 :  0.6\n",
            "테스트용 정확도 :  0.6384839650145773\n",
            "max_depth :  4\n",
            "학습용 정확도 :  0.6225\n",
            "테스트용 정확도 :  0.6268221574344023\n",
            "max_depth :  5\n",
            "학습용 정확도 :  0.645\n",
            "테스트용 정확도 :  0.641399416909621\n",
            "max_depth :  6\n",
            "학습용 정확도 :  0.68125\n",
            "테스트용 정확도 :  0.6122448979591837\n",
            "max_depth :  7\n",
            "학습용 정확도 :  0.7225\n",
            "테스트용 정확도 :  0.6034985422740525\n",
            "max_depth :  8\n",
            "학습용 정확도 :  0.76\n",
            "테스트용 정확도 :  0.60932944606414\n",
            "max_depth :  9\n",
            "학습용 정확도 :  0.795\n",
            "테스트용 정확도 :  0.60932944606414\n"
          ]
        }
      ]
    },
    {
      "cell_type": "code",
      "source": [
        "from sklearn.tree import DecisionTreeClassifier\n",
        "\n",
        "model2=DecisionTreeClassifier(random_state=0,max_depth=5)\n",
        "model2.fit(X_train,y_train)\n",
        "pred=model2.predict(X_test)\n",
        "\n",
        "print(\"결정트리 tr정확도:\",model2.score(X_train,y_train))\n",
        "print(\"결정트리 test정확도:\",model2.score(X_test,y_test))"
      ],
      "metadata": {
        "id": "Di9hS6ymGYZJ",
        "colab": {
          "base_uri": "https://localhost:8080/"
        },
        "outputId": "afc618e8-a7a9-4f17-d542-ad2174306cba"
      },
      "execution_count": 108,
      "outputs": [
        {
          "output_type": "stream",
          "name": "stdout",
          "text": [
            "결정트리 tr정확도: 0.645\n",
            "결정트리 test정확도: 0.641399416909621\n"
          ]
        }
      ]
    },
    {
      "cell_type": "code",
      "source": [
        "depth_num = range(1, 10)\n",
        "\n",
        "for num in depth_num:\n",
        "    model3 = RandomForestClassifier(max_depth=num, random_state=0, n_estimators=1000)\n",
        "    model3.fit(X_train, y_train)\n",
        "    \n",
        "    print(\"max_depth : \", num)\n",
        "    print(\"학습용 정확도 : \", model3.score(X_train,y_train) )\n",
        "    print(\"테스트용 정확도 : \", model3.score(X_test,y_test) )"
      ],
      "metadata": {
        "colab": {
          "base_uri": "https://localhost:8080/"
        },
        "id": "oFsPbXykYfi2",
        "outputId": "ebc0cd36-dfc9-43e2-cbe0-4b86a643ec1f"
      },
      "execution_count": 109,
      "outputs": [
        {
          "output_type": "stream",
          "name": "stdout",
          "text": [
            "max_depth :  1\n",
            "학습용 정확도 :  0.55\n",
            "테스트용 정확도 :  0.5947521865889213\n",
            "max_depth :  2\n",
            "학습용 정확도 :  0.57125\n",
            "테스트용 정확도 :  0.6180758017492711\n",
            "max_depth :  3\n",
            "학습용 정확도 :  0.60875\n",
            "테스트용 정확도 :  0.6297376093294461\n",
            "max_depth :  4\n",
            "학습용 정확도 :  0.6325\n",
            "테스트용 정확도 :  0.6384839650145773\n",
            "max_depth :  5\n",
            "학습용 정확도 :  0.67625\n",
            "테스트용 정확도 :  0.6355685131195336\n",
            "max_depth :  6\n",
            "학습용 정확도 :  0.7275\n",
            "테스트용 정확도 :  0.6501457725947521\n",
            "max_depth :  7\n",
            "학습용 정확도 :  0.7825\n",
            "테스트용 정확도 :  0.6443148688046647\n",
            "max_depth :  8\n",
            "학습용 정확도 :  0.83125\n",
            "테스트용 정확도 :  0.6443148688046647\n",
            "max_depth :  9\n",
            "학습용 정확도 :  0.89625\n",
            "테스트용 정확도 :  0.6443148688046647\n"
          ]
        }
      ]
    },
    {
      "cell_type": "code",
      "source": [
        "    model3 = RandomForestClassifier(max_depth=5, random_state=0,n_estimators=1000)\n",
        "    model3.fit(X_train, y_train)\n",
        "  \n",
        "    print(\"학습용 정확도 : \", model3.score(X_train,y_train) )\n",
        "    print(\"테스트용 정확도 : \", model3.score(X_test,y_test) )"
      ],
      "metadata": {
        "colab": {
          "base_uri": "https://localhost:8080/"
        },
        "id": "9E2EvVsOYftr",
        "outputId": "854e37ac-f998-4e0a-f38e-7cb09cd1106a"
      },
      "execution_count": 110,
      "outputs": [
        {
          "output_type": "stream",
          "name": "stdout",
          "text": [
            "학습용 정확도 :  0.67625\n",
            "테스트용 정확도 :  0.6355685131195336\n"
          ]
        }
      ]
    },
    {
      "cell_type": "markdown",
      "source": [
        "두개의 새로운 변수를 추가하여 변수에 추가하였더니 학습용정확도가 조금 올라갔고 테스트용은 미세하게 줄어들었다.\n"
      ],
      "metadata": {
        "id": "sjXI_fxsmb0e"
      }
    },
    {
      "cell_type": "code",
      "source": [
        "import xgboost as xgb"
      ],
      "metadata": {
        "id": "rlUpLfFpnXct"
      },
      "execution_count": 111,
      "outputs": []
    },
    {
      "cell_type": "code",
      "source": [
        "xg_reg = xgb.XGBRegressor()\n",
        "xg_reg"
      ],
      "metadata": {
        "colab": {
          "base_uri": "https://localhost:8080/"
        },
        "id": "dRlBRhbBnZw5",
        "outputId": "519fb4cd-f96b-4c12-d25c-bc49a88380cd"
      },
      "execution_count": 112,
      "outputs": [
        {
          "output_type": "execute_result",
          "data": {
            "text/plain": [
              "XGBRegressor()"
            ]
          },
          "metadata": {},
          "execution_count": 112
        }
      ]
    },
    {
      "cell_type": "code",
      "source": [
        "xg_reg = xgb.XGBRegressor(objective ='reg:linear', \n",
        "            colsample_bytree = 0.3, # 각나무마다 사용하는 feature 비율\n",
        "            learning_rate = 0.05,\n",
        "            max_depth = 5, \n",
        "            alpha = 0.1, \n",
        "            n_estimators = 3000) \n",
        "xg_reg "
      ],
      "metadata": {
        "colab": {
          "base_uri": "https://localhost:8080/"
        },
        "id": "XXTKjyuNnbch",
        "outputId": "1fd7c530-5402-48b3-895f-63e5ab1a2c5a"
      },
      "execution_count": 113,
      "outputs": [
        {
          "output_type": "execute_result",
          "data": {
            "text/plain": [
              "XGBRegressor(alpha=0.1, colsample_bytree=0.3, learning_rate=0.05, max_depth=5,\n",
              "             n_estimators=3000)"
            ]
          },
          "metadata": {},
          "execution_count": 113
        }
      ]
    },
    {
      "cell_type": "code",
      "source": [
        "%%time\n",
        "\n",
        "score = model_val(xg_reg)"
      ],
      "metadata": {
        "colab": {
          "base_uri": "https://localhost:8080/"
        },
        "id": "oRlloMLXnhch",
        "outputId": "1b7fe670-4ccb-4042-c56d-690a2f8433b4"
      },
      "execution_count": 114,
      "outputs": [
        {
          "output_type": "stream",
          "name": "stdout",
          "text": [
            "[13:27:44] WARNING: /workspace/src/objective/regression_obj.cu:152: reg:linear is now deprecated in favor of reg:squarederror.\n",
            "[13:27:45] WARNING: /workspace/src/objective/regression_obj.cu:152: reg:linear is now deprecated in favor of reg:squarederror.\n",
            "[13:27:46] WARNING: /workspace/src/objective/regression_obj.cu:152: reg:linear is now deprecated in favor of reg:squarederror.\n",
            "[13:27:46] WARNING: /workspace/src/objective/regression_obj.cu:152: reg:linear is now deprecated in favor of reg:squarederror.\n",
            "[13:27:46] WARNING: /workspace/src/objective/regression_obj.cu:152: reg:linear is now deprecated in favor of reg:squarederror.\n",
            "[13:27:47] WARNING: /workspace/src/objective/regression_obj.cu:152: reg:linear is now deprecated in favor of reg:squarederror.\n",
            "negative MSE : [-0.58821748 -0.47628008 -0.79114719 -0.58865535 -0.98196954]\n",
            "MSE 평균(cv=5) :  0.6852539256620724\n",
            "CPU times: user 2.94 s, sys: 140 ms, total: 3.08 s\n",
            "Wall time: 3.07 s\n"
          ]
        }
      ]
    },
    {
      "cell_type": "code",
      "source": [
        ""
      ],
      "metadata": {
        "id": "jX75TLKAnmwT"
      },
      "execution_count": null,
      "outputs": []
    }
  ]
}